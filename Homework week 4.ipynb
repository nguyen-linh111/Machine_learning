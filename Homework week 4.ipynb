{
 "cells": [
  {
   "cell_type": "code",
   "execution_count": null,
   "id": "590b2c73",
   "metadata": {},
   "outputs": [],
   "source": [
    "import numpy as np\n",
    "import matplotlib.pyplot as plt\n",
    "%matplotlib inline\n",
    "\n",
    "from numpy.linalg import inv\n",
    "import pandas as pd\n",
    "np.random.seed(1234)"
   ]
  },
  {
   "cell_type": "markdown",
   "id": "5acc1ca8",
   "metadata": {},
   "source": [
    "sample thêm 10 điểm dữ liệu cho tập valdiation"
   ]
  },
  {
   "cell_type": "code",
   "execution_count": 51,
   "id": "04d9e9ec",
   "metadata": {},
   "outputs": [
    {
     "data": {
      "image/png": "[encoded data removed]",
      "text/plain": [
       "<Figure size 432x288 with 1 Axes>"
      ]
     },
     "metadata": {
      "needs_background": "light"
     },
     "output_type": "display_data"
    }
   ],
   "source": [
    "def create_toy_data(func, sample_size, std):\n",
    "    x = np.linspace(0, 1, sample_size)\n",
    "    t = func(x) + np.random.normal(scale=std, size=x.shape)\n",
    "    return x, t\n",
    "\n",
    "def func(x):\n",
    "    return np.sin(2 * np.pi * x)\n",
    "\n",
    "x_train, y_train = create_toy_data(func, 10, 0.25)\n",
    "x_val, y_val = create_toy_data(func, 10, 0.5)\n",
    "x_test = np.linspace(0, 1, 100)\n",
    "y_test = func(x_test)\n",
    "\n",
    "plt.scatter(x_train, y_train, facecolor=\"none\", edgecolor=\"b\", s=50, label=\"training data\")\n",
    "plt.scatter(x_val, y_val, facecolor=\"r\", edgecolor=\"r\", s=50, label=\"validation data\")\n",
    "plt.plot(x_test, y_test, c=\"g\", label=\"$\\sin(2\\pi x)$\")\n",
    "plt.legend()\n",
    "plt.show()"
   ]
  },
  {
   "cell_type": "markdown",
   "id": "ced310b0",
   "metadata": {},
   "source": [
    "fit 3 model đa thức (bậc 1, bậc 3, bậc 9) cho dữ liệu trên, đánh giá mức độ underfitting, overfitting của 3 model và tính loss train/val"
   ]
  },
  {
   "cell_type": "code",
   "execution_count": 52,
   "id": "3461c15d",
   "metadata": {},
   "outputs": [],
   "source": [
    "def mse(truth, predict):\n",
    "    truth = np.array(truth)\n",
    "    predict = np.array(predict)\n",
    "    return np.mean((truth - predict) ** 2)"
   ]
  },
  {
   "cell_type": "code",
   "execution_count": 53,
   "id": "1c306881",
   "metadata": {},
   "outputs": [
    {
     "data": {
      "text/html": [
       "<div>\n",
       "<style scoped>\n",
       "    .dataframe tbody tr th:only-of-type {\n",
       "        vertical-align: middle;\n",
       "    }\n",
       "\n",
       "    .dataframe tbody tr th {\n",
       "        vertical-align: top;\n",
       "    }\n",
       "\n",
       "    .dataframe thead th {\n",
       "        text-align: right;\n",
       "    }\n",
       "</style>\n",
       "<table border=\"1\" class=\"dataframe\">\n",
       "  <thead>\n",
       "    <tr style=\"text-align: right;\">\n",
       "      <th></th>\n",
       "      <th>x_train</th>\n",
       "      <th>y_train</th>\n",
       "    </tr>\n",
       "  </thead>\n",
       "  <tbody>\n",
       "    <tr>\n",
       "      <th>0</th>\n",
       "      <td>0.000000</td>\n",
       "      <td>0.179726</td>\n",
       "    </tr>\n",
       "    <tr>\n",
       "      <th>1</th>\n",
       "      <td>0.111111</td>\n",
       "      <td>0.601148</td>\n",
       "    </tr>\n",
       "    <tr>\n",
       "      <th>2</th>\n",
       "      <td>0.222222</td>\n",
       "      <td>1.175961</td>\n",
       "    </tr>\n",
       "    <tr>\n",
       "      <th>3</th>\n",
       "      <td>0.333333</td>\n",
       "      <td>0.568665</td>\n",
       "    </tr>\n",
       "    <tr>\n",
       "      <th>4</th>\n",
       "      <td>0.444444</td>\n",
       "      <td>0.208306</td>\n",
       "    </tr>\n",
       "  </tbody>\n",
       "</table>\n",
       "</div>"
      ],
      "text/plain": [
       "    x_train   y_train\n",
       "0  0.000000  0.179726\n",
       "1  0.111111  0.601148\n",
       "2  0.222222  1.175961\n",
       "3  0.333333  0.568665\n",
       "4  0.444444  0.208306"
      ]
     },
     "execution_count": 53,
     "metadata": {},
     "output_type": "execute_result"
    }
   ],
   "source": [
    "dict1 = {'x_train':x_train, 'y_train' :y_train}\n",
    "train_df = pd.DataFrame(dict1)\n",
    "train_df.head()"
   ]
  },
  {
   "cell_type": "code",
   "execution_count": 54,
   "id": "d83b0c6b",
   "metadata": {},
   "outputs": [
    {
     "data": {
      "text/html": [
       "<div>\n",
       "<style scoped>\n",
       "    .dataframe tbody tr th:only-of-type {\n",
       "        vertical-align: middle;\n",
       "    }\n",
       "\n",
       "    .dataframe tbody tr th {\n",
       "        vertical-align: top;\n",
       "    }\n",
       "\n",
       "    .dataframe thead th {\n",
       "        text-align: right;\n",
       "    }\n",
       "</style>\n",
       "<table border=\"1\" class=\"dataframe\">\n",
       "  <thead>\n",
       "    <tr style=\"text-align: right;\">\n",
       "      <th></th>\n",
       "      <th>x_val</th>\n",
       "      <th>y_val</th>\n",
       "    </tr>\n",
       "  </thead>\n",
       "  <tbody>\n",
       "    <tr>\n",
       "      <th>0</th>\n",
       "      <td>0.000000</td>\n",
       "      <td>0.014781</td>\n",
       "    </tr>\n",
       "    <tr>\n",
       "      <th>1</th>\n",
       "      <td>0.111111</td>\n",
       "      <td>0.704709</td>\n",
       "    </tr>\n",
       "    <tr>\n",
       "      <th>2</th>\n",
       "      <td>0.222222</td>\n",
       "      <td>1.129523</td>\n",
       "    </tr>\n",
       "    <tr>\n",
       "      <th>3</th>\n",
       "      <td>0.333333</td>\n",
       "      <td>0.715279</td>\n",
       "    </tr>\n",
       "    <tr>\n",
       "      <th>4</th>\n",
       "      <td>0.444444</td>\n",
       "      <td>0.549238</td>\n",
       "    </tr>\n",
       "  </tbody>\n",
       "</table>\n",
       "</div>"
      ],
      "text/plain": [
       "      x_val     y_val\n",
       "0  0.000000  0.014781\n",
       "1  0.111111  0.704709\n",
       "2  0.222222  1.129523\n",
       "3  0.333333  0.715279\n",
       "4  0.444444  0.549238"
      ]
     },
     "execution_count": 54,
     "metadata": {},
     "output_type": "execute_result"
    }
   ],
   "source": [
    "dict2 = {'x_val':x_val, 'y_val' :y_val}\n",
    "val_df = pd.DataFrame(dict2)\n",
    "val_df.head()"
   ]
  },
  {
   "cell_type": "code",
   "execution_count": 55,
   "id": "9d8d0492",
   "metadata": {},
   "outputs": [
    {
     "data": {
      "text/html": [
       "<div>\n",
       "<style scoped>\n",
       "    .dataframe tbody tr th:only-of-type {\n",
       "        vertical-align: middle;\n",
       "    }\n",
       "\n",
       "    .dataframe tbody tr th {\n",
       "        vertical-align: top;\n",
       "    }\n",
       "\n",
       "    .dataframe thead th {\n",
       "        text-align: right;\n",
       "    }\n",
       "</style>\n",
       "<table border=\"1\" class=\"dataframe\">\n",
       "  <thead>\n",
       "    <tr style=\"text-align: right;\">\n",
       "      <th></th>\n",
       "      <th>x_test</th>\n",
       "      <th>y_test</th>\n",
       "    </tr>\n",
       "  </thead>\n",
       "  <tbody>\n",
       "    <tr>\n",
       "      <th>0</th>\n",
       "      <td>0.000000</td>\n",
       "      <td>0.000000</td>\n",
       "    </tr>\n",
       "    <tr>\n",
       "      <th>1</th>\n",
       "      <td>0.010101</td>\n",
       "      <td>0.063424</td>\n",
       "    </tr>\n",
       "    <tr>\n",
       "      <th>2</th>\n",
       "      <td>0.020202</td>\n",
       "      <td>0.126592</td>\n",
       "    </tr>\n",
       "    <tr>\n",
       "      <th>3</th>\n",
       "      <td>0.030303</td>\n",
       "      <td>0.189251</td>\n",
       "    </tr>\n",
       "    <tr>\n",
       "      <th>4</th>\n",
       "      <td>0.040404</td>\n",
       "      <td>0.251148</td>\n",
       "    </tr>\n",
       "  </tbody>\n",
       "</table>\n",
       "</div>"
      ],
      "text/plain": [
       "     x_test    y_test\n",
       "0  0.000000  0.000000\n",
       "1  0.010101  0.063424\n",
       "2  0.020202  0.126592\n",
       "3  0.030303  0.189251\n",
       "4  0.040404  0.251148"
      ]
     },
     "execution_count": 55,
     "metadata": {},
     "output_type": "execute_result"
    }
   ],
   "source": [
    "dict3 = {'x_test':x_test, 'y_test' :y_test}\n",
    "test_df = pd.DataFrame(dict3)\n",
    "test_df.head()"
   ]
  },
  {
   "cell_type": "code",
   "execution_count": 56,
   "id": "dbc7cd83",
   "metadata": {},
   "outputs": [],
   "source": [
    "class LinearRegression:\n",
    "    def __init__(self, df, target):\n",
    "        self.df = df\n",
    "        self.target = target\n",
    "\n",
    "    def find_coefficient(self):\n",
    "        t = np.array(self.df[self.target]).reshape(self.df.shape[0],1)\n",
    "        feature = np.array(self.df.loc[:, self.df.columns != self.target]).reshape(self.df.shape[0], self.df.shape[1]-1)\n",
    "        x = np.concatenate((np.ones((self.df.shape[0], 1)), feature), axis= 1)\n",
    "        w = np.array(inv(x.T.dot(x)).dot(x.T).dot(t)).reshape(feature.shape[1]+1, 1)\n",
    "        return w\n",
    "\n",
    "    def add_predict_column(self):\n",
    "        newdf = self.df.copy()\n",
    "        feature = np.array(self.df.loc[:, self.df.columns != self.target]).reshape(self.df.shape[0], self.df.shape[1]-1)\n",
    "        w = self.find_coefficient()\n",
    "        newdf['predict'] = feature.dot(w[1:,]) + w[0]\n",
    "        return newdf\n",
    "\n",
    "    def mse(self):\n",
    "        newdf = self.add_predict_column()\n",
    "        return np.mean((newdf['predict'] - newdf[self.target]) ** 2)\n",
    "\n",
    "    def predict_value(self, list1):\n",
    "        array = np.array(list1).reshape(1,len(list1))\n",
    "        w = self.find_coefficient()\n",
    "        return array.dot(w[1:,]) + w[0]\n",
    "\n",
    "    def print_model(self):\n",
    "        feature = (self.df.loc[:, self.df.columns != self.target])\n",
    "        w = self.find_coefficient()\n",
    "        print('y =', end=' ')\n",
    "        for i in range(1, len(w)):\n",
    "            print(round(float(w[i][0]),2), feature.columns[i-1], '+', end=' ')\n",
    "        print(round(float(w[0][0]),2))"
   ]
  },
  {
   "cell_type": "code",
   "execution_count": 57,
   "id": "dcab9c4e",
   "metadata": {},
   "outputs": [
    {
     "name": "stdout",
     "output_type": "stream",
     "text": [
      "[[ 0.6172537 ]\n",
      " [-1.22746081]]\n",
      "y = -1.23 x_train + 0.62\n"
     ]
    },
    {
     "data": {
      "text/plain": [
       "0.3926538191575659"
      ]
     },
     "execution_count": 57,
     "metadata": {},
     "output_type": "execute_result"
    }
   ],
   "source": [
    "# bac 1\n",
    "model1 = LinearRegression(train_df, 'y_train')\n",
    "print(model1.find_coefficient())\n",
    "model1.print_model()\n",
    "model1.mse()"
   ]
  },
  {
   "cell_type": "code",
   "execution_count": 58,
   "id": "a6bc6512",
   "metadata": {},
   "outputs": [
    {
     "data": {
      "text/plain": [
       "[<matplotlib.lines.Line2D at 0x21a67b393d0>]"
      ]
     },
     "execution_count": 58,
     "metadata": {},
     "output_type": "execute_result"
    },
    {
     "data": {
      "image/png": "[encoded data removed]",
      "text/plain": [
       "<Figure size 432x288 with 1 Axes>"
      ]
     },
     "metadata": {
      "needs_background": "light"
     },
     "output_type": "display_data"
    }
   ],
   "source": [
    "model1_predict = model1.add_predict_column()\n",
    "plt.scatter(x_train,y_train, facecolor=\"none\", edgecolor=\"b\", s=50, label=\"val data\")\n",
    "plt.scatter(x_val, y_val, facecolor=\"none\", edgecolor=\"r\", s=50, label=\"val data\")\n",
    "plt.plot(x_train, model1_predict.predict,'g')"
   ]
  },
  {
   "cell_type": "code",
   "execution_count": 59,
   "id": "bdf3a763",
   "metadata": {},
   "outputs": [
    {
     "name": "stdout",
     "output_type": "stream",
     "text": [
      "MSE Training: 0.3926538191575659\n",
      "MSE Validation: 0.45746214515382916\n"
     ]
    }
   ],
   "source": [
    "print('MSE Training:',mse(y_train, model1_predict.predict))\n",
    "print('MSE Validation:',mse(y_val, model1_predict.predict))"
   ]
  },
  {
   "cell_type": "code",
   "execution_count": 60,
   "id": "08d6e097",
   "metadata": {},
   "outputs": [],
   "source": [
    "# bac 3\n",
    "train_df3 = train_df.copy()\n",
    "train_df3['x^2'] = x_train ** 2\n",
    "train_df3['x^3'] = x_train ** 3"
   ]
  },
  {
   "cell_type": "code",
   "execution_count": 61,
   "id": "807ff74e",
   "metadata": {},
   "outputs": [
    {
     "name": "stdout",
     "output_type": "stream",
     "text": [
      "[[  0.08270818]\n",
      " [ 10.40847753]\n",
      " [-33.8893503 ]\n",
      " [ 23.90618526]]\n",
      "y = 10.41 x_train + -33.89 x^2 + 23.91 x^3 + 0.08\n"
     ]
    }
   ],
   "source": [
    "model3 = LinearRegression(train_df3, 'y_train')\n",
    "print(model3.find_coefficient())\n",
    "model3.print_model()"
   ]
  },
  {
   "cell_type": "code",
   "execution_count": 62,
   "id": "4cb87dd2",
   "metadata": {},
   "outputs": [],
   "source": [
    "w3 = model3.find_coefficient()\n",
    "x3 = np.linspace(0,1,100)\n",
    "y3 = w3[1]*x3 + w3[2]*x3**2 + w3[3]*x3**3 + w3[0]"
   ]
  },
  {
   "cell_type": "code",
   "execution_count": 63,
   "id": "1161f532",
   "metadata": {},
   "outputs": [
    {
     "data": {
      "text/plain": [
       "[<matplotlib.lines.Line2D at 0x21a67ba3130>]"
      ]
     },
     "execution_count": 63,
     "metadata": {},
     "output_type": "execute_result"
    },
    {
     "data": {
      "image/png": "[encoded data removed]",
      "text/plain": [
       "<Figure size 432x288 with 1 Axes>"
      ]
     },
     "metadata": {
      "needs_background": "light"
     },
     "output_type": "display_data"
    }
   ],
   "source": [
    "model3_predict = model3.add_predict_column()\n",
    "plt.scatter(x_train,y_train, facecolor=\"none\", edgecolor=\"b\", s=50, label=\"val data\")\n",
    "plt.scatter(x_val, y_val, facecolor=\"r\", edgecolor=\"r\", s=50, label=\"val data\")\n",
    "plt.plot(x3, y3,'g')"
   ]
  },
  {
   "cell_type": "code",
   "execution_count": 64,
   "id": "e2f27a0d",
   "metadata": {},
   "outputs": [
    {
     "name": "stdout",
     "output_type": "stream",
     "text": [
      "MSE Training: 0.02925827462990773\n",
      "MSE Validation: 0.20961933693448181\n"
     ]
    }
   ],
   "source": [
    "print('MSE Training:',mse(y_train, model3_predict.predict))\n",
    "print('MSE Validation:',mse(y_val, model3_predict.predict))"
   ]
  },
  {
   "cell_type": "code",
   "execution_count": 65,
   "id": "e53c56d2",
   "metadata": {},
   "outputs": [
    {
     "data": {
      "text/html": [
       "<div>\n",
       "<style scoped>\n",
       "    .dataframe tbody tr th:only-of-type {\n",
       "        vertical-align: middle;\n",
       "    }\n",
       "\n",
       "    .dataframe tbody tr th {\n",
       "        vertical-align: top;\n",
       "    }\n",
       "\n",
       "    .dataframe thead th {\n",
       "        text-align: right;\n",
       "    }\n",
       "</style>\n",
       "<table border=\"1\" class=\"dataframe\">\n",
       "  <thead>\n",
       "    <tr style=\"text-align: right;\">\n",
       "      <th></th>\n",
       "      <th>x_train</th>\n",
       "      <th>y_train</th>\n",
       "      <th>x^2</th>\n",
       "      <th>x^3</th>\n",
       "      <th>x^4</th>\n",
       "      <th>x^5</th>\n",
       "      <th>x^6</th>\n",
       "      <th>x^7</th>\n",
       "      <th>x^8</th>\n",
       "      <th>x^9</th>\n",
       "    </tr>\n",
       "  </thead>\n",
       "  <tbody>\n",
       "    <tr>\n",
       "      <th>0</th>\n",
       "      <td>0.000000</td>\n",
       "      <td>0.179726</td>\n",
       "      <td>0.000000</td>\n",
       "      <td>0.000000</td>\n",
       "      <td>0.000000</td>\n",
       "      <td>0.000000</td>\n",
       "      <td>0.000000</td>\n",
       "      <td>0.000000e+00</td>\n",
       "      <td>0.000000e+00</td>\n",
       "      <td>0.000000e+00</td>\n",
       "    </tr>\n",
       "    <tr>\n",
       "      <th>1</th>\n",
       "      <td>0.111111</td>\n",
       "      <td>0.601148</td>\n",
       "      <td>0.012346</td>\n",
       "      <td>0.001372</td>\n",
       "      <td>0.000152</td>\n",
       "      <td>0.000017</td>\n",
       "      <td>0.000002</td>\n",
       "      <td>2.090752e-07</td>\n",
       "      <td>2.323057e-08</td>\n",
       "      <td>2.581175e-09</td>\n",
       "    </tr>\n",
       "    <tr>\n",
       "      <th>2</th>\n",
       "      <td>0.222222</td>\n",
       "      <td>1.175961</td>\n",
       "      <td>0.049383</td>\n",
       "      <td>0.010974</td>\n",
       "      <td>0.002439</td>\n",
       "      <td>0.000542</td>\n",
       "      <td>0.000120</td>\n",
       "      <td>2.676162e-05</td>\n",
       "      <td>5.947027e-06</td>\n",
       "      <td>1.321561e-06</td>\n",
       "    </tr>\n",
       "    <tr>\n",
       "      <th>3</th>\n",
       "      <td>0.333333</td>\n",
       "      <td>0.568665</td>\n",
       "      <td>0.111111</td>\n",
       "      <td>0.037037</td>\n",
       "      <td>0.012346</td>\n",
       "      <td>0.004115</td>\n",
       "      <td>0.001372</td>\n",
       "      <td>4.572474e-04</td>\n",
       "      <td>1.524158e-04</td>\n",
       "      <td>5.080526e-05</td>\n",
       "    </tr>\n",
       "    <tr>\n",
       "      <th>4</th>\n",
       "      <td>0.444444</td>\n",
       "      <td>0.208306</td>\n",
       "      <td>0.197531</td>\n",
       "      <td>0.087791</td>\n",
       "      <td>0.039018</td>\n",
       "      <td>0.017342</td>\n",
       "      <td>0.007707</td>\n",
       "      <td>3.425487e-03</td>\n",
       "      <td>1.522439e-03</td>\n",
       "      <td>6.766395e-04</td>\n",
       "    </tr>\n",
       "  </tbody>\n",
       "</table>\n",
       "</div>"
      ],
      "text/plain": [
       "    x_train   y_train       x^2       x^3       x^4       x^5       x^6  \\\n",
       "0  0.000000  0.179726  0.000000  0.000000  0.000000  0.000000  0.000000   \n",
       "1  0.111111  0.601148  0.012346  0.001372  0.000152  0.000017  0.000002   \n",
       "2  0.222222  1.175961  0.049383  0.010974  0.002439  0.000542  0.000120   \n",
       "3  0.333333  0.568665  0.111111  0.037037  0.012346  0.004115  0.001372   \n",
       "4  0.444444  0.208306  0.197531  0.087791  0.039018  0.017342  0.007707   \n",
       "\n",
       "            x^7           x^8           x^9  \n",
       "0  0.000000e+00  0.000000e+00  0.000000e+00  \n",
       "1  2.090752e-07  2.323057e-08  2.581175e-09  \n",
       "2  2.676162e-05  5.947027e-06  1.321561e-06  \n",
       "3  4.572474e-04  1.524158e-04  5.080526e-05  \n",
       "4  3.425487e-03  1.522439e-03  6.766395e-04  "
      ]
     },
     "execution_count": 65,
     "metadata": {},
     "output_type": "execute_result"
    }
   ],
   "source": [
    "# bac 9\n",
    "train_df9 = train_df.copy()\n",
    "train_df9['x^2'] = x_train ** 2\n",
    "train_df9['x^3'] = x_train ** 3\n",
    "train_df9['x^4'] = x_train ** 4\n",
    "train_df9['x^5'] = x_train ** 5\n",
    "train_df9['x^6'] = x_train ** 6\n",
    "train_df9['x^7'] = x_train ** 7\n",
    "train_df9['x^8'] = x_train ** 8\n",
    "train_df9['x^9'] = x_train ** 9\n",
    "\n",
    "train_df9.head()"
   ]
  },
  {
   "cell_type": "code",
   "execution_count": 66,
   "id": "69f4ad13",
   "metadata": {},
   "outputs": [
    {
     "name": "stdout",
     "output_type": "stream",
     "text": [
      "[[ 1.79667500e-01]\n",
      " [-5.04183041e+01]\n",
      " [ 1.09691161e+03]\n",
      " [-8.21828679e+03]\n",
      " [ 3.11738988e+04]\n",
      " [-6.78310579e+04]\n",
      " [ 8.79315528e+04]\n",
      " [-6.69342808e+04]\n",
      " [ 2.75603051e+04]\n",
      " [-4.72837698e+03]]\n",
      "y = -50.42 x_train + 1096.91 x^2 + -8218.29 x^3 + 31173.9 x^4 + -67831.06 x^5 + 87931.55 x^6 + -66934.28 x^7 + 27560.31 x^8 + -4728.38 x^9 + 0.18\n"
     ]
    }
   ],
   "source": [
    "model9 = LinearRegression(train_df9,'y_train')\n",
    "print(model9.find_coefficient())\n",
    "model9.print_model()"
   ]
  },
  {
   "cell_type": "code",
   "execution_count": 31,
   "id": "1b4bb7d0",
   "metadata": {},
   "outputs": [],
   "source": [
    "w9= model9.find_coefficient()\n",
    "x9 = np.linspace(0,1,100)\n",
    "y9 = w9[1]*x9 + w9[2]*x9**2 + w9[3]*x9**3 + w9[4]*x9**4 + w9[5]*x9**5 + w9[6]*x9**6  + w9[7]*x9**7 + w9[8]*x9**8 + w9[9]*x9**9 + w9[0]"
   ]
  },
  {
   "cell_type": "code",
   "execution_count": 67,
   "id": "b3380959",
   "metadata": {},
   "outputs": [
    {
     "data": {
      "text/plain": [
       "[<matplotlib.lines.Line2D at 0x21a67c0d940>]"
      ]
     },
     "execution_count": 67,
     "metadata": {},
     "output_type": "execute_result"
    },
    {
     "data": {
      "image/png": "[encoded data removed]",
      "text/plain": [
       "<Figure size 432x288 with 1 Axes>"
      ]
     },
     "metadata": {
      "needs_background": "light"
     },
     "output_type": "display_data"
    }
   ],
   "source": [
    "model9_predict = model9.add_predict_column()\n",
    "plt.scatter(x_train,y_train, facecolor=\"none\", edgecolor=\"b\", s=50, label=\"val data\")\n",
    "plt.scatter(x_val, y_val, facecolor=\"r\", edgecolor=\"r\", s=50, label=\"val data\")\n",
    "plt.plot(x9, y9,'g')"
   ]
  },
  {
   "cell_type": "code",
   "execution_count": 68,
   "id": "4b3154c3",
   "metadata": {},
   "outputs": [
    {
     "name": "stdout",
     "output_type": "stream",
     "text": [
      "MSE Training: 7.644934471621854e-09\n",
      "MSE Validation: 0.15816906895112068\n"
     ]
    }
   ],
   "source": [
    "print('MSE Training:',mse(y_train, model9_predict.predict))\n",
    "print('MSE Validation:',mse(y_val, model9_predict.predict))"
   ]
  },
  {
   "cell_type": "markdown",
   "id": "d1c01760",
   "metadata": {},
   "source": [
    "thêm 100 dữ liệu vào tập train, model bậc 9 có còn overfitting"
   ]
  },
  {
   "cell_type": "code",
   "execution_count": 69,
   "id": "e9268748",
   "metadata": {},
   "outputs": [
    {
     "data": {
      "image/png": "[encoded data removed]",
      "text/plain": [
       "<Figure size 432x288 with 1 Axes>"
      ]
     },
     "metadata": {
      "needs_background": "light"
     },
     "output_type": "display_data"
    }
   ],
   "source": [
    "def func(x):\n",
    "    return np.sin(2 * np.pi * x)\n",
    "\n",
    "x_train, y_train = create_toy_data(func, 100, 0.25)\n",
    "x_val, y_val = create_toy_data(func, 10, 0.5)\n",
    "x_test = np.linspace(0, 1, 100)\n",
    "y_test = func(x_test)\n",
    "\n",
    "plt.scatter(x_train, y_train, facecolor=\"none\", edgecolor=\"b\", s=50, label=\"training data\")\n",
    "plt.scatter(x_val, y_val, facecolor=\"r\", edgecolor=\"r\", s=50, label=\"validation data\")\n",
    "plt.plot(x_test, y_test, c=\"g\", label=\"$\\sin(2\\pi x)$\")\n",
    "plt.legend()\n",
    "plt.show()"
   ]
  }
 ],
 "metadata": {
  "kernelspec": {
   "display_name": "Python 3 (ipykernel)",
   "language": "python",
   "name": "python3"
  },
  "language_info": {
   "codemirror_mode": {
    "name": "ipython",
    "version": 3
   },
   "file_extension": ".py",
   "mimetype": "text/x-python",
   "name": "python",
   "nbconvert_exporter": "python",
   "pygments_lexer": "ipython3",
   "version": "3.9.7"
  }
 },
 "nbformat": 4,
 "nbformat_minor": 5
}
